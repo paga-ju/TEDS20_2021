{
 "metadata": {
  "language_info": {
   "codemirror_mode": {
    "name": "ipython",
    "version": 3
   },
   "file_extension": ".py",
   "mimetype": "text/x-python",
   "name": "python",
   "nbconvert_exporter": "python",
   "pygments_lexer": "ipython3",
   "version": 3
  },
  "orig_nbformat": 2
 },
 "nbformat": 4,
 "nbformat_minor": 2,
 "cells": [
  {
   "source": [
    "# Workshop 1: Development Environment"
   ],
   "cell_type": "markdown",
   "metadata": {}
  },
  {
   "source": [
    "## 1. Python\n",
    "Install Python (https://www.python.org/downloads) and optionally  \n",
    "Anaconda (https://www.anaconda.com/products/individual) or  \n",
    "Miniconda (https://docs.conda.io/en/latest/miniconda.html).\n",
    "\n",
    "https://www.jcchouinard.com/install-python-with-anaconda-on-windows"
   ],
   "cell_type": "markdown",
   "metadata": {}
  },
  {
   "source": [
    "## 2. Git and Github\n",
    "Install Git (https://git-scm.com/download).  \n",
    "Create a GitHub account (https://github.com) if you don't already have one.\n",
    "\n",
    "Configure Git  \n",
    "`git config --list`  \n",
    "`git config --global user.name \"yourusername\"`  \n",
    "`git config --global user.email \"email@youremail.com\"`\n",
    "\n",
    "https://www.jcchouinard.com/install-git-in-vscode"
   ],
   "cell_type": "markdown",
   "metadata": {}
  },
  {
   "source": [
    "## 3. Visual Studio Code\n",
    "Install Visual Studio Code (https://code.visualstudio.com/download).\n",
    "\n",
    "https://www.jcchouinard.com/python-with-vscode\n",
    "\n",
    "https://code.visualstudio.com/docs/editor/versioncontrol"
   ],
   "cell_type": "markdown",
   "metadata": {}
  },
  {
   "source": [
    "## 4. Create a Virtual Environment and start Visual Studio Code\n",
    "\n",
    "`mkdir project1`  \n",
    "`cd project1`  \n",
    "`python -m venv .venv`  \n",
    "\n",
    "Windows  \n",
    "`.venv\\Scripts\\activate`  \n",
    "\n",
    "Linux, Mac  \n",
    "`source .venv/bin/activate`"
   ],
   "cell_type": "markdown",
   "metadata": {}
  },
  {
   "source": [
    "## 5. Install Python Packages\n",
    "\n",
    "`pip install --upgrade pip`\n",
    "`pip install wheel`\n",
    "\n",
    "`pip install numpy matplotlib opencv-contrib-python tensorflow ipykernel jupyter pylint`\n",
    "\n",
    "`pip install -r requirements.txt`"
   ],
   "cell_type": "markdown",
   "metadata": {}
  },
  {
   "source": [
    "## 6. Clone the Course's Github Repository\n",
    "\n",
    "`git clone https://github.com/paga-ju/TEDS20_2021.git`"
   ],
   "cell_type": "markdown",
   "metadata": {}
  }
 ]
}