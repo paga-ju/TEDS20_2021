{
 "metadata": {
  "language_info": {
   "codemirror_mode": {
    "name": "ipython",
    "version": 3
   },
   "file_extension": ".py",
   "mimetype": "text/x-python",
   "name": "python",
   "nbconvert_exporter": "python",
   "pygments_lexer": "ipython3",
   "version": "3.8.3"
  },
  "orig_nbformat": 2,
  "kernelspec": {
   "name": "python383jvsc74a57bd0b3ba2566441a7c06988d0923437866b63cedc61552a5af99d1f4fb67d367b25f",
   "display_name": "Python 3.8.3 64-bit ('base': conda)"
  }
 },
 "nbformat": 4,
 "nbformat_minor": 2,
 "cells": [
  {
   "source": [
    "# Exercise 4: Developing a TensorFlow Lite Android App\n",
    "\n",
    "In this exercise you will learn how to develop an application for recognizing flowers with TensorFlow Lite on Android:\n",
    "\n",
    "1. First we will create and train a model on [Google Colab](https://colab.research.google.com) using [TensorFlow Lite Model Maker](https://www.tensorflow.org/lite/guide/model_maker) with TensorFlow 2.0.\n",
    "2. Then we will convert the model to TFLite in Google CoLab and download the TFLite model to our local computer.\n",
    "3. Finally, we will create an Anroid App with [Android Studio](https://developer.android.com/studio), load the TFLite model, and run inference on an Android Emulator. \n",
    "\n",
    "We will also learn how to use the tutorials on [Google CodeLab](https://codelabs.developers.google.com).\n",
    "\n",
    "Start the exercise by clicking on [this link](https://codelabs.developers.google.com/codelabs/recognize-flowers-with-tensorflow-on-android)."
   ],
   "cell_type": "markdown",
   "metadata": {}
  },
  {
   "cell_type": "code",
   "execution_count": null,
   "metadata": {},
   "outputs": [],
   "source": []
  }
 ]
}