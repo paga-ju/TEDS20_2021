{
 "metadata": {
  "language_info": {
   "codemirror_mode": {
    "name": "ipython",
    "version": 3
   },
   "file_extension": ".py",
   "mimetype": "text/x-python",
   "name": "python",
   "nbconvert_exporter": "python",
   "pygments_lexer": "ipython3",
   "version": "3.8.3"
  },
  "orig_nbformat": 2,
  "kernelspec": {
   "name": "python383jvsc74a57bd09d65b9e2e8eac6a387e3ce3a08e87d542be448df25ebc8844952a4308c3d4f13",
   "display_name": "Python 3.8.3 64-bit ('.venv')"
  }
 },
 "nbformat": 4,
 "nbformat_minor": 2,
 "cells": [
  {
   "source": [
    "# Exercise 6: SPARQL\n",
    "\n",
    "In this exercise you will Learn how to use RDFLib to:\n",
    "- Query a RDF Graph using SPARQL."
   ],
   "cell_type": "markdown",
   "metadata": {}
  },
  {
   "source": [
    "As a first step, let's import the python modules we need."
   ],
   "cell_type": "markdown",
   "metadata": {}
  },
  {
   "cell_type": "code",
   "execution_count": 1,
   "metadata": {},
   "outputs": [],
   "source": [
    "# pip install rdflib\n",
    "import rdflib\n",
    "from rdflib import Graph, URIRef, BNode, Literal, Namespace\n",
    "from rdflib.namespace import RDF, RDFS, OWL, XSD, FOAF, DCTERMS, SDO, SKOS"
   ]
  },
  {
   "source": [
    "## Querying with SPARQL\n",
    "\n",
    "We will use:\n",
    "- The following Turtle file: https://www.wikidata.org/wiki/Special:EntityData/Q2831.ttl  \n",
    "- The following resource: http://www.wikidata.org/entity/Q2831"
   ],
   "cell_type": "markdown",
   "metadata": {}
  },
  {
   "cell_type": "code",
   "execution_count": 2,
   "metadata": {},
   "outputs": [
    {
     "output_type": "execute_result",
     "data": {
      "text/plain": [
       "<Graph identifier=N6ebc294da43648009ca339a1788a561e (<class 'rdflib.graph.Graph'>)>"
      ]
     },
     "metadata": {},
     "execution_count": 2
    }
   ],
   "source": [
    "g = Graph()\n",
    "g.parse('https://www.wikidata.org/wiki/Special:EntityData/Q2831.ttl')"
   ]
  },
  {
   "cell_type": "code",
   "execution_count": 3,
   "metadata": {},
   "outputs": [
    {
     "output_type": "stream",
     "name": "stdout",
     "text": [
      "The graph g contains 125495 facts (triples)\n"
     ]
    }
   ],
   "source": [
    "print(f'The graph g contains {len(g)} facts (triples)')"
   ]
  },
  {
   "cell_type": "code",
   "execution_count": 4,
   "metadata": {},
   "outputs": [
    {
     "output_type": "stream",
     "name": "stdout",
     "text": [
      "Jacko@hu\nMichael Joseph Jackson@ab\nMJ@ms\nKing Of Pop@gl\nThe King@gl\nMJ@gcr\nDžekson Maikl@vep\nᎹᏱᎩᎵ ᏦᏎᏫ ᏤᎩᏌᏂ@chr\nDžekson Maikl Džozef@vep\nThe King@ca\nMichael Joseph Jackson@es\nМайкл Джо Джексон@mhr\nEl Rey@es\nKing of Pop@de\nMichael Joseph Jackson@frc\nRaja Pop@ms\nThe King of Pop@ban\nMichael Joe Jackson@ms\nМайкл Джозеф Джексон@mhr\nM.J.@ban\nمايكول جېكسون@ug\nKing of Music@en\nഎം.ജെ@ml\nMichael Joseph Jackson@se\nMichael Joe Jackson@sju\nThe King of Pop@frc\nКраљ попа@sr\nKing Of Pop@ca\nMichael Joseph Jackson@ca\nMichael Joe Jackson@smj\nMichael Joseph Jackson@nl\nMichael Joe Jackson@sma\nMJ@es\n麥可·傑克森@zh\nമൈക്കൽ ജോ ജാക്സൺ@ml\nMJ@hu\nThe King of Pop@ab\nM.J.@en\nMichael Joseph Jackson@hu\nMichael Joseph Jackson@ban\nMichael Joe Jackson@smn\nMJ@de\nMichael Joseph Jackson@gcr\nMichael Joseph Jackson@it\nKról Popu@pl\nMichael Joseph Jackson@sms\nسلطان پاپ@fa\nKing of Pop@gcr\nThe King of Pop@de\nMichael Joseph Jackson@en\nMichael Joe Jackson@sv\nMichael Joseph Jackson@sje\nKing of Pop@es\nMichael Joseph Jackson@smj\nMichael Joseph Jackson@co\nMichael Joe Jackson@pt\nملك البوب@ar\nRegele pop-ului@ro\nMichael Joseph Jackson@nb\nپادشاه پاپ@fa\nMJ@tr\nMichael Joe Jackson@sms\nMaikl Džozef Džekson@vep\nМайкл Джозеф Джексон@sjd\nMichael Joe Jackson@fi\nThe King of Pop@en\nMichael Joseph Jackson@sv\nThe King of Pop@nl\nMichael J. Jackson@it\nRei da Pop@pt\nMichael Joseph Jackson@fit\nMJ@lb\nМајкл Џо Џексон@sr\nМајкл Џозеф Џексон@sr\nMJJ@fr\nام.جی.@fa\nMichael Joe Jackson@fit\nMJJ@co\nМайкл Джо Джексон@sjd\nMJ@ca\nMichael Joe Jackson@es\n邁克爾傑克遜@zh-hant\nام‌جی@fa\nKing of Music@ca\nJacko@it\nMichael Joe Jackson@en\nMichael Joseph Jackson@fi\nകിംങ്ങ് ഓഫ് പോപ്@ml\nRe del Pop@it\nMiĥaelo Jozefo Jackson@eo\nКороль поп-музыки@ru\nMJ@fr\nMJ@ru\nroue pop@br\nMJ@ban\nA pop királya@hu\nM.J.@de\nMichael Joseph Jackson@br\nMichael Joe Jackson@nb\nمایکل جوزف جکسون@fa\nThe King of Pop@lb\nThe King@en\nRegele muzicii pop@ro\nMichael Joseph Jackson@de\nRoi de la Pop@fr\nKing of Pop@ab\nMichael Joe Jackson@et\nMichael Joseph Jackson@fr\nMichael Joe Jackson@sje\nДжексон, Майкл@ru\nMichaël Iosephus Jackson@la\nМайкл Джо Джексон@ru\nKing of Music@es\nThe King@es\nMichael Joe Jackson@se\nThe King of Pop@gcr\nMichael Joe Jackson@it\nMichael Joseph Jackson@sju\nJacko@de\nM. J.@de\nMichael Joseph Jackson@ms\nМайкл Джозеф Джексон@ru\nMichael Jackson@ab\nMJ@ja\nM.J.@ab\nMichael Joseph Jackson@sma\nЕм-Џеј@sr\nRey del Pop@es\nMichael Joseph Jackson@et\nMichaël Jackson@la\nMichael Joseph Jackson@nn\nMJ@en\nKing of Pop@en\nMJ@ab\nKing of Pop@ban\n迈克尔杰克逊@zh\nRey de la Música@es\nMJ@pt\n米高·積遜@zh-hk\nThe King of Pop@ru\nMichael Joe Jackson@rmf\nМайкл Джексон@mhr\nThe King@gcr\nM.J.@gcr\nMJ@gl\nMichael Joseph Jackson@lb\nMichael Joseph Jackson@pt\nMichael Joseph Jackson@rmf\nማይክል ጆሴፍ ጃክሰን@am\nM. J.@en\nMJ@sr\nMichael Joseph Jackson@smn\nപോപ് രാജാവ്@ml\n"
     ]
    }
   ],
   "source": [
    "# Get all objects with subject 'MJ' and predicate 'SKOS.altLabel'.\n",
    "# Then print out the objects' value and language \n",
    "MJ = URIRef('http://www.wikidata.org/entity/Q2831')\n",
    "for label in g.objects(MJ, SKOS.altLabel):\n",
    "    print(f'{label.value}@{label.language}')"
   ]
  },
  {
   "cell_type": "code",
   "execution_count": 5,
   "metadata": {},
   "outputs": [
    {
     "output_type": "stream",
     "name": "stdout",
     "text": [
      "Jacko@hu\nMichael Joseph Jackson@ab\nMJ@ms\nKing Of Pop@gl\nThe King@gl\nMJ@gcr\nDžekson Maikl@vep\nᎹᏱᎩᎵ ᏦᏎᏫ ᏤᎩᏌᏂ@chr\nDžekson Maikl Džozef@vep\nThe King@ca\nMichael Joseph Jackson@es\nМайкл Джо Джексон@mhr\nEl Rey@es\nKing of Pop@de\nMichael Joseph Jackson@frc\nRaja Pop@ms\nThe King of Pop@ban\nMichael Joe Jackson@ms\nМайкл Джозеф Джексон@mhr\nM.J.@ban\nمايكول جېكسون@ug\nKing of Music@en\nഎം.ജെ@ml\nMichael Joseph Jackson@se\nMichael Joe Jackson@sju\nThe King of Pop@frc\nКраљ попа@sr\nKing Of Pop@ca\nMichael Joseph Jackson@ca\nMichael Joe Jackson@smj\nMichael Joseph Jackson@nl\nMichael Joe Jackson@sma\nMJ@es\n麥可·傑克森@zh\nമൈക്കൽ ജോ ജാക്സൺ@ml\nMJ@hu\nThe King of Pop@ab\nM.J.@en\nMichael Joseph Jackson@hu\nMichael Joseph Jackson@ban\nMichael Joe Jackson@smn\nMJ@de\nMichael Joseph Jackson@gcr\nMichael Joseph Jackson@it\nKról Popu@pl\nMichael Joseph Jackson@sms\nسلطان پاپ@fa\nKing of Pop@gcr\nThe King of Pop@de\nMichael Joseph Jackson@en\nMichael Joe Jackson@sv\nMichael Joseph Jackson@sje\nKing of Pop@es\nMichael Joseph Jackson@smj\nMichael Joseph Jackson@co\nMichael Joe Jackson@pt\nملك البوب@ar\nRegele pop-ului@ro\nMichael Joseph Jackson@nb\nپادشاه پاپ@fa\nMJ@tr\nMichael Joe Jackson@sms\nMaikl Džozef Džekson@vep\nМайкл Джозеф Джексон@sjd\nMichael Joe Jackson@fi\nThe King of Pop@en\nMichael Joseph Jackson@sv\nThe King of Pop@nl\nMichael J. Jackson@it\nRei da Pop@pt\nMichael Joseph Jackson@fit\nMJ@lb\nМајкл Џо Џексон@sr\nМајкл Џозеф Џексон@sr\nMJJ@fr\nام.جی.@fa\nMichael Joe Jackson@fit\nMJJ@co\nМайкл Джо Джексон@sjd\nMJ@ca\nMichael Joe Jackson@es\n邁克爾傑克遜@zh-hant\nام‌جی@fa\nKing of Music@ca\nJacko@it\nMichael Joe Jackson@en\nMichael Joseph Jackson@fi\nകിംങ്ങ് ഓഫ് പോപ്@ml\nRe del Pop@it\nMiĥaelo Jozefo Jackson@eo\nКороль поп-музыки@ru\nMJ@fr\nMJ@ru\nroue pop@br\nMJ@ban\nA pop királya@hu\nM.J.@de\nMichael Joseph Jackson@br\nMichael Joe Jackson@nb\nمایکل جوزف جکسون@fa\nThe King of Pop@lb\nThe King@en\nRegele muzicii pop@ro\nMichael Joseph Jackson@de\nRoi de la Pop@fr\nKing of Pop@ab\nMichael Joe Jackson@et\nMichael Joseph Jackson@fr\nMichael Joe Jackson@sje\nДжексон, Майкл@ru\nMichaël Iosephus Jackson@la\nМайкл Джо Джексон@ru\nKing of Music@es\nThe King@es\nMichael Joe Jackson@se\nThe King of Pop@gcr\nMichael Joe Jackson@it\nMichael Joseph Jackson@sju\nJacko@de\nM. J.@de\nMichael Joseph Jackson@ms\nМайкл Джозеф Джексон@ru\nMichael Jackson@ab\nMJ@ja\nM.J.@ab\nMichael Joseph Jackson@sma\nЕм-Џеј@sr\nRey del Pop@es\nMichael Joseph Jackson@et\nMichaël Jackson@la\nMichael Joseph Jackson@nn\nMJ@en\nKing of Pop@en\nMJ@ab\nKing of Pop@ban\n迈克尔杰克逊@zh\nRey de la Música@es\nMJ@pt\n米高·積遜@zh-hk\nThe King of Pop@ru\nMichael Joe Jackson@rmf\nМайкл Джексон@mhr\nThe King@gcr\nM.J.@gcr\nMJ@gl\nMichael Joseph Jackson@lb\nMichael Joseph Jackson@pt\nMichael Joseph Jackson@rmf\nማይክል ጆሴፍ ጃክሰን@am\nM. J.@en\nMJ@sr\nMichael Joseph Jackson@smn\nപോപ് രാജാവ്@ml\n"
     ]
    }
   ],
   "source": [
    "# Do the same thing as above, but only get the preferred label for each object\n",
    "labels = g.preferredLabel(MJ, labelProperties=(SKOS.altLabel,))\n",
    "for prop, label in labels:\n",
    "    print(f'{label.value}@{label.language}')"
   ]
  },
  {
   "cell_type": "code",
   "execution_count": 6,
   "metadata": {},
   "outputs": [
    {
     "output_type": "stream",
     "name": "stdout",
     "text": [
      "Jacko hu\nMichael Joseph Jackson ab\nMJ ms\nKing Of Pop gl\nThe King gl\nMJ gcr\nDžekson Maikl vep\nᎹᏱᎩᎵ ᏦᏎᏫ ᏤᎩᏌᏂ chr\nDžekson Maikl Džozef vep\nThe King ca\nMichael Joseph Jackson es\nМайкл Джо Джексон mhr\nEl Rey es\nKing of Pop de\nMichael Joseph Jackson frc\nRaja Pop ms\nThe King of Pop ban\nMichael Joe Jackson ms\nМайкл Джозеф Джексон mhr\nM.J. ban\nمايكول جېكسون ug\nKing of Music en\nഎം.ജെ ml\nMichael Joseph Jackson se\nMichael Joe Jackson sju\nThe King of Pop frc\nКраљ попа sr\nKing Of Pop ca\nMichael Joseph Jackson ca\nMichael Joe Jackson smj\nMichael Joseph Jackson nl\nMichael Joe Jackson sma\nMJ es\n麥可·傑克森 zh\nമൈക്കൽ ജോ ജാക്സൺ ml\nMJ hu\nThe King of Pop ab\nM.J. en\nMichael Joseph Jackson hu\nMichael Joseph Jackson ban\nMichael Joe Jackson smn\nMJ de\nMichael Joseph Jackson gcr\nMichael Joseph Jackson it\nKról Popu pl\nMichael Joseph Jackson sms\nسلطان پاپ fa\nKing of Pop gcr\nThe King of Pop de\nMichael Joseph Jackson en\nMichael Joe Jackson sv\nMichael Joseph Jackson sje\nKing of Pop es\nMichael Joseph Jackson smj\nMichael Joseph Jackson co\nMichael Joe Jackson pt\nملك البوب ar\nRegele pop-ului ro\nMichael Joseph Jackson nb\nپادشاه پاپ fa\nMJ tr\nMichael Joe Jackson sms\nMaikl Džozef Džekson vep\nМайкл Джозеф Джексон sjd\nMichael Joe Jackson fi\nThe King of Pop en\nMichael Joseph Jackson sv\nThe King of Pop nl\nMichael J. Jackson it\nRei da Pop pt\nMichael Joseph Jackson fit\nMJ lb\nМајкл Џо Џексон sr\nМајкл Џозеф Џексон sr\nMJJ fr\nام.جی. fa\nMichael Joe Jackson fit\nMJJ co\nМайкл Джо Джексон sjd\nMJ ca\nMichael Joe Jackson es\n邁克爾傑克遜 zh-hant\nام‌جی fa\nKing of Music ca\nJacko it\nMichael Joe Jackson en\nMichael Joseph Jackson fi\nകിംങ്ങ് ഓഫ് പോപ് ml\nRe del Pop it\nMiĥaelo Jozefo Jackson eo\nКороль поп-музыки ru\nMJ fr\nMJ ru\nroue pop br\nMJ ban\nA pop királya hu\nM.J. de\nMichael Joseph Jackson br\nMichael Joe Jackson nb\nمایکل جوزف جکسون fa\nThe King of Pop lb\nThe King en\nRegele muzicii pop ro\nMichael Joseph Jackson de\nRoi de la Pop fr\nKing of Pop ab\nMichael Joe Jackson et\nMichael Joseph Jackson fr\nMichael Joe Jackson sje\nДжексон, Майкл ru\nMichaël Iosephus Jackson la\nМайкл Джо Джексон ru\nKing of Music es\nThe King es\nMichael Joe Jackson se\nThe King of Pop gcr\nMichael Joe Jackson it\nMichael Joseph Jackson sju\nJacko de\nM. J. de\nMichael Joseph Jackson ms\nМайкл Джозеф Джексон ru\nMichael Jackson ab\nMJ ja\nM.J. ab\nMichael Joseph Jackson sma\nЕм-Џеј sr\nRey del Pop es\nMichael Joseph Jackson et\nMichaël Jackson la\nMichael Joseph Jackson nn\nMJ en\nKing of Pop en\nMJ ab\nKing of Pop ban\n迈克尔杰克逊 zh\nRey de la Música es\nMJ pt\n米高·積遜 zh-hk\nThe King of Pop ru\nMichael Joe Jackson rmf\nМайкл Джексон mhr\nThe King gcr\nM.J. gcr\nMJ gl\nMichael Joseph Jackson lb\nMichael Joseph Jackson pt\nMichael Joseph Jackson rmf\nማይክል ጆሴፍ ጃክሰን am\nM. J. en\nMJ sr\nMichael Joseph Jackson smn\nപോപ് രാജാവ് ml\n"
     ]
    }
   ],
   "source": [
    "# Use a SPARQL query to:\n",
    "# - Get all objects with subject 'wd:Q2831' and predicate 'skos:altLabel' (WHERE clause)\n",
    "# - Print out all matched objects (SELECT clause)\n",
    "\n",
    "qres = g.query('''\n",
    "SELECT ?label\n",
    "WHERE {\n",
    "    wd:Q2831 skos:altLabel ?label .\n",
    "}\n",
    "''')\n",
    "for label, *_ in qres:\n",
    "    print(label.value, label.language)"
   ]
  },
  {
   "cell_type": "code",
   "execution_count": 7,
   "metadata": {},
   "outputs": [
    {
     "output_type": "stream",
     "name": "stdout",
     "text": [
      "King of Music\nKing of Pop\nM. J.\nM.J.\nMJ\nMichael Jackson\nMichael Joe Jackson\nMichael Joseph Jackson\nThe King\nThe King of Pop\n"
     ]
    }
   ],
   "source": [
    "# Use a SPARQL query to:\n",
    "# - Get all objects with subject 'wd:Q2831' and predicate\n",
    "#   'rdfs:label' OR 'skos:prefLabel' OR 'skos:altLabel' AND\n",
    "#   where the language of the object is 'en' (WHERE clause)\n",
    "# - Print out all matched objects (SELECT clause)\n",
    "# - Order by the objects' value ascending (ORDER BY clause)\n",
    "\n",
    "qres = g.query('''\n",
    "SELECT DISTINCT ?label\n",
    "WHERE {\n",
    "    wd:Q2831 rdfs:label | skos:prefLabel | skos:altLabel ?label\n",
    "    FILTER( lang(?label) = 'en' )\n",
    "}\n",
    "ORDER BY ?label\n",
    "''')\n",
    "for label, *_ in qres:\n",
    "    print(label)"
   ]
  },
  {
   "cell_type": "code",
   "execution_count": 8,
   "metadata": {},
   "outputs": [
    {
     "output_type": "stream",
     "name": "stdout",
     "text": [
      "Award: International Artist Award of Excellence                Description: American Music Award\nAward: Grammy Award for Best R&B Song                          Description: None\nAward: Grammy Award for Best Album for Children                Description: None\nAward: Grammy Award for Best Male Pop Vocal Performance        Description: award\nAward: Grammy Award for Best Male Rock Vocal Performance       Description: Grammy Award\nAward: Johnny Mercer Award                                     Description: award; highest honor bestowed by Songwriters Hall of Fame\nAward: Grammy Award for Album of the Year                      Description: American music award for excellent albums\nAward: Grammy Lifetime Achievement Award                       Description: music award given to individual performers or groups\nAward: Grammy Award for Best Male R&B Vocal Performance        Description: None\nAward: Grammy Award for Best Music Video                       Description: Music award\nAward: Grammy Award for Producer of the Year, Non-Classical    Description: American music award category\nAward: Grammy Legend Award                                     Description: special music award of merit given to recording artists\nAward: Genesis Award                                           Description: awarded by the Humane Society of the United States\nAward: Grammy Award for Best Music Film                        Description: award for concert/performance films or music documentaries\nAward: Grammy Award for Song of the Year                       Description: American music award for excellent songwriting\nAward: Grammy Award for Record of the Year                     Description: award\n"
     ]
    }
   ],
   "source": [
    "# Use a SPARQL query to:\n",
    "# - Get all objects with subject 'wd:Q2831' and predicate 'wdt:P166', (1st part of WHERE clause)\n",
    "#   where these matching objects are subjects with predicate 'rdfs:label', and retreive the objects for these (2nd part)\n",
    "#   where the language of the object is 'en' (FILTER),\n",
    "# - Also return the object's description if it has a 'schema:description' predicate (OPTIONAL).\n",
    "# - Print out all matched objects and their description (SELECT clause)\n",
    "\n",
    "qres = g.query('''\n",
    "SELECT ?label ?description\n",
    "WHERE {\n",
    "    wd:Q2831 wdt:P166 ?award .\n",
    "    ?award rdfs:label ?label .\n",
    "    FILTER( lang(?label) = 'en' )\n",
    "    OPTIONAL {\n",
    "        ?award schema:description ?description\n",
    "        FILTER( lang(?description) = 'en' )\n",
    "    }\n",
    "}\n",
    "''')\n",
    "for label, description in qres:\n",
    "    print(f'Award: {label:<55} Description: {description}')"
   ]
  },
  {
   "cell_type": "code",
   "execution_count": null,
   "metadata": {},
   "outputs": [],
   "source": []
  }
 ]
}