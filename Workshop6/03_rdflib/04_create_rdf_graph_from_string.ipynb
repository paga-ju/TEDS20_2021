{
 "metadata": {
  "language_info": {
   "codemirror_mode": {
    "name": "ipython",
    "version": 3
   },
   "file_extension": ".py",
   "mimetype": "text/x-python",
   "name": "python",
   "nbconvert_exporter": "python",
   "pygments_lexer": "ipython3",
   "version": "3.8.3"
  },
  "orig_nbformat": 2,
  "kernelspec": {
   "name": "python383jvsc74a57bd09d65b9e2e8eac6a387e3ce3a08e87d542be448df25ebc8844952a4308c3d4f13",
   "display_name": "Python 3.8.3 64-bit ('.venv')"
  }
 },
 "nbformat": 4,
 "nbformat_minor": 2,
 "cells": [
  {
   "source": [
    "# Exercise 4: Create Graph from String\n",
    "\n",
    "In this exercise you will Learn how to use RDFLib to:\n",
    "- Load a RDF Graph from a string."
   ],
   "cell_type": "markdown",
   "metadata": {}
  },
  {
   "source": [
    "As a first step, let's import the python modules we need."
   ],
   "cell_type": "markdown",
   "metadata": {}
  },
  {
   "cell_type": "code",
   "execution_count": 1,
   "metadata": {},
   "outputs": [],
   "source": [
    "# pip install rdflib\n",
    "import rdflib\n",
    "from rdflib import Graph, URIRef, BNode, Literal, Namespace\n",
    "from rdflib.namespace import RDF, RDFS, OWL, XSD, FOAF, DCTERMS, SDO, SKOS"
   ]
  },
  {
   "cell_type": "code",
   "execution_count": 2,
   "metadata": {},
   "outputs": [],
   "source": [
    "# Create a string containing two RDF triples in Tutle format\n",
    "data = '<http://bigasterisk.com/foaf.rdf#drewp> <http://www.w3.org/1999/02/22-rdf-syntax-ns#type> <http://xmlns.com/foaf/0.1/Person> . <http://bigasterisk.com/foaf.rdf#drewp> <http://example.com/says> \"Hello world\" .'"
   ]
  },
  {
   "cell_type": "code",
   "execution_count": 3,
   "metadata": {},
   "outputs": [
    {
     "output_type": "stream",
     "name": "stdout",
     "text": [
      "Graph g has 2 facts (triples)\n"
     ]
    }
   ],
   "source": [
    "# Parse in an RDF from the string above\n",
    "g = Graph()\n",
    "g.parse(data=data, format='ttl')\n",
    "print(f'Graph g has {len(g)} facts (triples)')"
   ]
  },
  {
   "cell_type": "code",
   "execution_count": 4,
   "metadata": {},
   "outputs": [
    {
     "output_type": "stream",
     "name": "stdout",
     "text": [
      "(rdflib.term.URIRef('http://bigasterisk.com/foaf.rdf#drewp'), rdflib.term.URIRef('http://www.w3.org/1999/02/22-rdf-syntax-ns#type'), rdflib.term.URIRef('http://xmlns.com/foaf/0.1/Person'))\n(rdflib.term.URIRef('http://bigasterisk.com/foaf.rdf#drewp'), rdflib.term.URIRef('http://example.com/says'), rdflib.term.Literal('Hello world'))\n"
     ]
    }
   ],
   "source": [
    "# Iterate over the triples and print them out\n",
    "for triples in g:\n",
    "    print(triples)"
   ]
  },
  {
   "cell_type": "code",
   "execution_count": 5,
   "metadata": {},
   "outputs": [
    {
     "output_type": "stream",
     "name": "stdout",
     "text": [
      "@prefix ns1: <http://example.com/> .\n\n<http://bigasterisk.com/foaf.rdf#drewp> a <http://xmlns.com/foaf/0.1/Person> ;\n    ns1:says \"Hello world\" .\n\n\n"
     ]
    }
   ],
   "source": [
    "# Print out the entire Graph in the Turtle format\n",
    "print(g.serialize(format='ttl').decode('u8'))"
   ]
  },
  {
   "cell_type": "code",
   "execution_count": 6,
   "metadata": {},
   "outputs": [
    {
     "output_type": "stream",
     "name": "stdout",
     "text": [
      "<?xml version=\"1.0\" encoding=\"UTF-8\"?>\n<rdf:RDF\n   xmlns:ns1=\"http://example.com/\"\n   xmlns:rdf=\"http://www.w3.org/1999/02/22-rdf-syntax-ns#\"\n>\n  <rdf:Description rdf:about=\"http://bigasterisk.com/foaf.rdf#drewp\">\n    <rdf:type rdf:resource=\"http://xmlns.com/foaf/0.1/Person\"/>\n    <ns1:says>Hello world</ns1:says>\n  </rdf:Description>\n</rdf:RDF>\n\n"
     ]
    }
   ],
   "source": [
    "# Print out the entire Graph in the XML format\n",
    "print(g.serialize(format='xml').decode('u8'))"
   ]
  },
  {
   "cell_type": "code",
   "execution_count": null,
   "metadata": {},
   "outputs": [],
   "source": []
  }
 ]
}