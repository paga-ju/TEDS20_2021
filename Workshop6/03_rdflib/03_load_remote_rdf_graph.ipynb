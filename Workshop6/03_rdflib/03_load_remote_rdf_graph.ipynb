{
 "metadata": {
  "language_info": {
   "codemirror_mode": {
    "name": "ipython",
    "version": 3
   },
   "file_extension": ".py",
   "mimetype": "text/x-python",
   "name": "python",
   "nbconvert_exporter": "python",
   "pygments_lexer": "ipython3",
   "version": "3.8.3"
  },
  "orig_nbformat": 2,
  "kernelspec": {
   "name": "python383jvsc74a57bd09d65b9e2e8eac6a387e3ce3a08e87d542be448df25ebc8844952a4308c3d4f13",
   "display_name": "Python 3.8.3 64-bit ('.venv')"
  }
 },
 "nbformat": 4,
 "nbformat_minor": 2,
 "cells": [
  {
   "source": [
    "# Exercise 3: Load Remote Graph\n",
    "\n",
    "In this exercise you will Learn how to use RDFLib to:\n",
    "- Load a RDF Graph from the internet."
   ],
   "cell_type": "markdown",
   "metadata": {}
  },
  {
   "source": [
    "As a first step, let's import the python modules we need."
   ],
   "cell_type": "markdown",
   "metadata": {}
  },
  {
   "cell_type": "code",
   "execution_count": 1,
   "metadata": {},
   "outputs": [],
   "source": [
    "# pip install rdflib\n",
    "import rdflib\n",
    "from rdflib import Graph, URIRef, BNode, Literal, Namespace\n",
    "from rdflib.namespace import RDF, RDFS, OWL, XSD, FOAF, DCTERMS, SDO, SKOS"
   ]
  },
  {
   "source": [
    "Let's load this RDF graph from DBPedia (click on the link): http://dbpedia.org/resource/Michael_Jackson"
   ],
   "cell_type": "markdown",
   "metadata": {}
  },
  {
   "cell_type": "code",
   "execution_count": 2,
   "metadata": {},
   "outputs": [
    {
     "output_type": "execute_result",
     "data": {
      "text/plain": [
       "<Graph identifier=Nb42a758e3cac46219be1c0be9f2be822 (<class 'rdflib.graph.Graph'>)>"
      ]
     },
     "metadata": {},
     "execution_count": 2
    }
   ],
   "source": [
    "# Initialize a graph\n",
    "g = Graph()\n",
    "\n",
    "# Parse in a RDF graph from dbpedia\n",
    "g.parse('http://dbpedia.org/resource/Michael_Jackson')"
   ]
  },
  {
   "cell_type": "code",
   "execution_count": 3,
   "metadata": {},
   "outputs": [
    {
     "output_type": "stream",
     "name": "stdout",
     "text": [
      "http://dbpedia.org/resource/Michael_Jackson http://www.w3.org/2000/01/rdf-schema#label Michael Jackson\nhttp://dbpedia.org/resource/Alexander_Mikhailovich_Kozulin http://dbpedia.org/ontology/wikiPageWikiLink http://dbpedia.org/resource/Michael_Jackson\nhttp://dbpedia.org/resource/DLow http://dbpedia.org/ontology/wikiPageWikiLink http://dbpedia.org/resource/Michael_Jackson\nhttp://dbpedia.org/resource/Dancing_Brasil_(season_3) http://dbpedia.org/ontology/wikiPageWikiLink http://dbpedia.org/resource/Michael_Jackson\nhttp://dbpedia.org/resource/Klay_Shroedel http://dbpedia.org/ontology/wikiPageWikiLink http://dbpedia.org/resource/Michael_Jackson\n"
     ]
    }
   ],
   "source": [
    "# Loop through, and print out, the first 5 triples in the graph (subject, predicate, object)\n",
    "for index, (s, p, o) in enumerate(g):\n",
    "    print(s, p, o)\n",
    "    if index == 4:\n",
    "        break"
   ]
  },
  {
   "cell_type": "code",
   "execution_count": 4,
   "metadata": {},
   "outputs": [
    {
     "output_type": "stream",
     "name": "stdout",
     "text": [
      "The graph has 9368 facts (tripples)\n"
     ]
    }
   ],
   "source": [
    "# Print the size of the Graph\n",
    "print(f'The graph has {len(g)} facts (tripples)')"
   ]
  },
  {
   "cell_type": "code",
   "execution_count": 5,
   "metadata": {
    "tags": []
   },
   "outputs": [
    {
     "output_type": "stream",
     "name": "stdout",
     "text": [
      "@prefix dbo: <http://dbpedia.org/ontology/> .\n@prefix dbp: <http://dbpedia.org/property/> .\n@prefix dct: <http://purl.org/dc/terms/> .\n@prefix foaf: <http://xmlns.com/foaf/0.1/> .\n@prefix owl: <http://www.w3.org/2002/07/owl#> .\n@prefix prov: <http://www.w3.org/ns/prov#> .\n@prefix rdfs: <http://www.w3.org/2000/01/rdf-schema#> .\n@prefix schema: <http://schema.org/> .\n@prefix skos: <http://www.w3.org/2004/02/skos/core#> .\n@prefix xsd: <http://www.w3.org/2001/XMLSchema#> .\n\n<http://dbpedia.org/resource/!Wowow!> dbo:wikiPageWikiLink <http://dbpedia.org/resource/Michael_Jackson> .\n\n<http://dbpedia.org/resource/%22Weird_Al%22_Yankovic> dbo:wikiPageWikiLink <http://dbpedia.org/resource/Michael_Jackson> .\n\n<http://dbpedia.org/resource/%22Weird_Al%22_Yankovic's_Greatest_Hits> dbo:wikiPageWikiLink <http://dbpedia.org/resource/Michael_Jackson> .\n\n"
     ]
    }
   ],
   "source": [
    "# Print out a part of the Graph in the RDF Turtle format\n",
    "ttl = g.serialize(format='ttl').decode('utf-8')\n",
    "print(ttl[:846])"
   ]
  },
  {
   "cell_type": "code",
   "execution_count": null,
   "metadata": {},
   "outputs": [],
   "source": []
  }
 ]
}