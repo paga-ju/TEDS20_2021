{
 "metadata": {
  "language_info": {
   "codemirror_mode": {
    "name": "ipython",
    "version": 3
   },
   "file_extension": ".py",
   "mimetype": "text/x-python",
   "name": "python",
   "nbconvert_exporter": "python",
   "pygments_lexer": "ipython3",
   "version": "3.8.3"
  },
  "orig_nbformat": 2,
  "kernelspec": {
   "name": "python383jvsc74a57bd09d65b9e2e8eac6a387e3ce3a08e87d542be448df25ebc8844952a4308c3d4f13",
   "display_name": "Python 3.8.3 64-bit ('.venv')"
  }
 },
 "nbformat": 4,
 "nbformat_minor": 2,
 "cells": [
  {
   "source": [
    "# Exercise 5: Navigate Graph\n",
    "\n",
    "In this exercise you will Learn how to use RDFLib to:\n",
    "- Navigate throug a RDF Graph."
   ],
   "cell_type": "markdown",
   "metadata": {}
  },
  {
   "source": [
    "As a first step, let's import the python modules we need."
   ],
   "cell_type": "markdown",
   "metadata": {}
  },
  {
   "cell_type": "code",
   "execution_count": 1,
   "metadata": {},
   "outputs": [],
   "source": [
    "# pip install rdflib\n",
    "import rdflib\n",
    "from rdflib import Graph, URIRef, BNode, Literal, Namespace\n",
    "from rdflib.namespace import RDF, RDFS, OWL, XSD, FOAF, DCTERMS, SDO, SKOS\n",
    "\n",
    "from pprint import pprint"
   ]
  },
  {
   "source": [
    "We will use this resource from the internet: http://dbpedia.org/resource/Berlin"
   ],
   "cell_type": "markdown",
   "metadata": {}
  },
  {
   "cell_type": "code",
   "execution_count": 2,
   "metadata": {},
   "outputs": [
    {
     "output_type": "execute_result",
     "data": {
      "text/plain": [
       "<Graph identifier=Nb41a208c3343452287437b70b6fbb5da (<class 'rdflib.graph.Graph'>)>"
      ]
     },
     "metadata": {},
     "execution_count": 2
    }
   ],
   "source": [
    "g = Graph()\n",
    "g.parse('http://dbpedia.org/resource/Berlin')"
   ]
  },
  {
   "cell_type": "code",
   "execution_count": 3,
   "metadata": {},
   "outputs": [
    {
     "output_type": "stream",
     "name": "stdout",
     "text": [
      "http://dbpedia.org/resource/Hannah_Black http://dbpedia.org/ontology/wikiPageWikiLink http://dbpedia.org/resource/Berlin\n"
     ]
    }
   ],
   "source": [
    "# Iterating over a graph\n",
    "for s, p, o in g:\n",
    "    print(s, p, o)\n",
    "    break # only print the first RDF triple"
   ]
  },
  {
   "cell_type": "code",
   "execution_count": 4,
   "metadata": {},
   "outputs": [
    {
     "output_type": "stream",
     "name": "stdout",
     "text": [
      "The graph g contains 10001 facts (triples)\n"
     ]
    }
   ],
   "source": [
    "print(f'The graph g contains {len(g)} facts (triples)')"
   ]
  },
  {
   "cell_type": "code",
   "execution_count": 5,
   "metadata": {},
   "outputs": [
    {
     "output_type": "stream",
     "name": "stdout",
     "text": [
      "Triple exists\n"
     ]
    }
   ],
   "source": [
    "# Check if the triple exists\n",
    "if (s, p, o) in g:\n",
    "    print('Triple exists')\n",
    "else:\n",
    "    print('Triple does not exists')"
   ]
  },
  {
   "cell_type": "code",
   "execution_count": 6,
   "metadata": {},
   "outputs": [
    {
     "output_type": "stream",
     "name": "stdout",
     "text": [
      "Triple exists\n"
     ]
    }
   ],
   "source": [
    "# Check if the triple exists\n",
    "if (URIRef('http://dbpedia.org/resource/Berlin'), None, None) in g:\n",
    "    print('Triple exists')\n",
    "else:\n",
    "    print('Triple does not exists')"
   ]
  },
  {
   "cell_type": "code",
   "execution_count": 7,
   "metadata": {},
   "outputs": [
    {
     "output_type": "stream",
     "name": "stdout",
     "text": [
      "{rdflib.term.URIRef('http://dbpedia.org/ontology/PopulatedPlace/areaTotal'),\n rdflib.term.URIRef('http://dbpedia.org/ontology/abstract'),\n rdflib.term.URIRef('http://dbpedia.org/ontology/areaCode'),\n rdflib.term.URIRef('http://dbpedia.org/ontology/areaTotal'),\n rdflib.term.URIRef('http://dbpedia.org/ontology/birthPlace'),\n rdflib.term.URIRef('http://dbpedia.org/ontology/country'),\n rdflib.term.URIRef('http://dbpedia.org/ontology/deathPlace'),\n rdflib.term.URIRef('http://dbpedia.org/ontology/elevation'),\n rdflib.term.URIRef('http://dbpedia.org/ontology/governingBody'),\n rdflib.term.URIRef('http://dbpedia.org/ontology/isoCodeRegion'),\n rdflib.term.URIRef('http://dbpedia.org/ontology/politicalLeader'),\n rdflib.term.URIRef('http://dbpedia.org/ontology/populationAsOf'),\n rdflib.term.URIRef('http://dbpedia.org/ontology/populationMetro'),\n rdflib.term.URIRef('http://dbpedia.org/ontology/populationTotal'),\n rdflib.term.URIRef('http://dbpedia.org/ontology/thumbnail'),\n rdflib.term.URIRef('http://dbpedia.org/ontology/timeZone'),\n rdflib.term.URIRef('http://dbpedia.org/ontology/type'),\n rdflib.term.URIRef('http://dbpedia.org/ontology/utcOffset'),\n rdflib.term.URIRef('http://dbpedia.org/ontology/wikiPageExternalLink'),\n rdflib.term.URIRef('http://dbpedia.org/ontology/wikiPageID'),\n rdflib.term.URIRef('http://dbpedia.org/ontology/wikiPageLength'),\n rdflib.term.URIRef('http://dbpedia.org/ontology/wikiPageRevisionID'),\n rdflib.term.URIRef('http://dbpedia.org/ontology/wikiPageWikiLink'),\n rdflib.term.URIRef('http://dbpedia.org/property/align'),\n rdflib.term.URIRef('http://dbpedia.org/property/areaCode'),\n rdflib.term.URIRef('http://dbpedia.org/property/areaTotalKm'),\n rdflib.term.URIRef('http://dbpedia.org/property/birthPlace'),\n rdflib.term.URIRef('http://dbpedia.org/property/blank1InfoSec'),\n rdflib.term.URIRef('http://dbpedia.org/property/blank1NameSec'),\n rdflib.term.URIRef('http://dbpedia.org/property/blank2InfoSec'),\n rdflib.term.URIRef('http://dbpedia.org/property/blank2NameSec'),\n rdflib.term.URIRef('http://dbpedia.org/property/blankInfoSec'),\n rdflib.term.URIRef('http://dbpedia.org/property/blankNameSec'),\n rdflib.term.URIRef('http://dbpedia.org/property/caption'),\n rdflib.term.URIRef('http://dbpedia.org/property/captionAlign'),\n rdflib.term.URIRef('http://dbpedia.org/property/date'),\n rdflib.term.URIRef('http://dbpedia.org/property/deathPlace'),\n rdflib.term.URIRef('http://dbpedia.org/property/elevationM'),\n rdflib.term.URIRef('http://dbpedia.org/property/footer'),\n rdflib.term.URIRef('http://dbpedia.org/property/footerAlign'),\n rdflib.term.URIRef('http://dbpedia.org/property/geocode'),\n rdflib.term.URIRef('http://dbpedia.org/property/governingBody'),\n rdflib.term.URIRef('http://dbpedia.org/property/height'),\n rdflib.term.URIRef('http://dbpedia.org/property/image'),\n rdflib.term.URIRef('http://dbpedia.org/property/imageFlag'),\n rdflib.term.URIRef('http://dbpedia.org/property/imageShield'),\n rdflib.term.URIRef('http://dbpedia.org/property/isoCode'),\n rdflib.term.URIRef('http://dbpedia.org/property/leaderName'),\n rdflib.term.URIRef('http://dbpedia.org/property/leaderParty'),\n rdflib.term.URIRef('http://dbpedia.org/property/leaderTitle'),\n rdflib.term.URIRef('http://dbpedia.org/property/name'),\n rdflib.term.URIRef('http://dbpedia.org/property/perrow'),\n rdflib.term.URIRef('http://dbpedia.org/property/populationAsOf'),\n rdflib.term.URIRef('http://dbpedia.org/property/populationDemonyms'),\n rdflib.term.URIRef('http://dbpedia.org/property/populationMetro'),\n rdflib.term.URIRef('http://dbpedia.org/property/populationTotal'),\n rdflib.term.URIRef('http://dbpedia.org/property/pushpinMap'),\n rdflib.term.URIRef('http://dbpedia.org/property/pushpinMapCaption'),\n rdflib.term.URIRef('http://dbpedia.org/property/pushpinRelief'),\n rdflib.term.URIRef('http://dbpedia.org/property/reason'),\n rdflib.term.URIRef('http://dbpedia.org/property/registrationPlate'),\n rdflib.term.URIRef('http://dbpedia.org/property/settlementType'),\n rdflib.term.URIRef('http://dbpedia.org/property/shieldSize'),\n rdflib.term.URIRef('http://dbpedia.org/property/subdivisionType'),\n rdflib.term.URIRef('http://dbpedia.org/property/timezone'),\n rdflib.term.URIRef('http://dbpedia.org/property/timezone1Dst'),\n rdflib.term.URIRef('http://dbpedia.org/property/totalType'),\n rdflib.term.URIRef('http://dbpedia.org/property/totalWidth'),\n rdflib.term.URIRef('http://dbpedia.org/property/utcOffset'),\n rdflib.term.URIRef('http://dbpedia.org/property/utcOffset1Dst'),\n rdflib.term.URIRef('http://dbpedia.org/property/width'),\n rdflib.term.URIRef('http://dbpedia.org/property/wikiPageUsesTemplate'),\n rdflib.term.URIRef('http://purl.org/dc/terms/isPartOf'),\n rdflib.term.URIRef('http://purl.org/dc/terms/subject'),\n rdflib.term.URIRef('http://schema.org/sameAs'),\n rdflib.term.URIRef('http://www.georss.org/georss/point'),\n rdflib.term.URIRef('http://www.w3.org/1999/02/22-rdf-syntax-ns#type'),\n rdflib.term.URIRef('http://www.w3.org/2000/01/rdf-schema#comment'),\n rdflib.term.URIRef('http://www.w3.org/2000/01/rdf-schema#label'),\n rdflib.term.URIRef('http://www.w3.org/2000/01/rdf-schema#seeAlso'),\n rdflib.term.URIRef('http://www.w3.org/2002/07/owl#sameAs'),\n rdflib.term.URIRef('http://www.w3.org/2003/01/geo/wgs84_pos#geometry'),\n rdflib.term.URIRef('http://www.w3.org/2003/01/geo/wgs84_pos#lat'),\n rdflib.term.URIRef('http://www.w3.org/2003/01/geo/wgs84_pos#long'),\n rdflib.term.URIRef('http://www.w3.org/2004/02/skos/core#exactMatch'),\n rdflib.term.URIRef('http://www.w3.org/ns/prov#wasDerivedFrom'),\n rdflib.term.URIRef('http://xmlns.com/foaf/0.1/depiction'),\n rdflib.term.URIRef('http://xmlns.com/foaf/0.1/homepage'),\n rdflib.term.URIRef('http://xmlns.com/foaf/0.1/isPrimaryTopicOf'),\n rdflib.term.URIRef('http://xmlns.com/foaf/0.1/name'),\n rdflib.term.URIRef('http://xmlns.com/foaf/0.1/primaryTopic')}\n"
     ]
    }
   ],
   "source": [
    "# Get a set of properties (predicates) - Alternative 1\n",
    "properties1 = set()\n",
    "for s, p, o in g:\n",
    "    properties1.add(p)\n",
    "\n",
    "# Print out the properties\n",
    "pprint(properties1)"
   ]
  },
  {
   "cell_type": "code",
   "execution_count": 8,
   "metadata": {},
   "outputs": [
    {
     "output_type": "stream",
     "name": "stdout",
     "text": [
      "{rdflib.term.URIRef('http://dbpedia.org/ontology/PopulatedPlace/areaTotal'),\n rdflib.term.URIRef('http://dbpedia.org/ontology/abstract'),\n rdflib.term.URIRef('http://dbpedia.org/ontology/areaCode'),\n rdflib.term.URIRef('http://dbpedia.org/ontology/areaTotal'),\n rdflib.term.URIRef('http://dbpedia.org/ontology/birthPlace'),\n rdflib.term.URIRef('http://dbpedia.org/ontology/country'),\n rdflib.term.URIRef('http://dbpedia.org/ontology/deathPlace'),\n rdflib.term.URIRef('http://dbpedia.org/ontology/elevation'),\n rdflib.term.URIRef('http://dbpedia.org/ontology/governingBody'),\n rdflib.term.URIRef('http://dbpedia.org/ontology/isoCodeRegion'),\n rdflib.term.URIRef('http://dbpedia.org/ontology/politicalLeader'),\n rdflib.term.URIRef('http://dbpedia.org/ontology/populationAsOf'),\n rdflib.term.URIRef('http://dbpedia.org/ontology/populationMetro'),\n rdflib.term.URIRef('http://dbpedia.org/ontology/populationTotal'),\n rdflib.term.URIRef('http://dbpedia.org/ontology/thumbnail'),\n rdflib.term.URIRef('http://dbpedia.org/ontology/timeZone'),\n rdflib.term.URIRef('http://dbpedia.org/ontology/type'),\n rdflib.term.URIRef('http://dbpedia.org/ontology/utcOffset'),\n rdflib.term.URIRef('http://dbpedia.org/ontology/wikiPageExternalLink'),\n rdflib.term.URIRef('http://dbpedia.org/ontology/wikiPageID'),\n rdflib.term.URIRef('http://dbpedia.org/ontology/wikiPageLength'),\n rdflib.term.URIRef('http://dbpedia.org/ontology/wikiPageRevisionID'),\n rdflib.term.URIRef('http://dbpedia.org/ontology/wikiPageWikiLink'),\n rdflib.term.URIRef('http://dbpedia.org/property/align'),\n rdflib.term.URIRef('http://dbpedia.org/property/areaCode'),\n rdflib.term.URIRef('http://dbpedia.org/property/areaTotalKm'),\n rdflib.term.URIRef('http://dbpedia.org/property/birthPlace'),\n rdflib.term.URIRef('http://dbpedia.org/property/blank1InfoSec'),\n rdflib.term.URIRef('http://dbpedia.org/property/blank1NameSec'),\n rdflib.term.URIRef('http://dbpedia.org/property/blank2InfoSec'),\n rdflib.term.URIRef('http://dbpedia.org/property/blank2NameSec'),\n rdflib.term.URIRef('http://dbpedia.org/property/blankInfoSec'),\n rdflib.term.URIRef('http://dbpedia.org/property/blankNameSec'),\n rdflib.term.URIRef('http://dbpedia.org/property/caption'),\n rdflib.term.URIRef('http://dbpedia.org/property/captionAlign'),\n rdflib.term.URIRef('http://dbpedia.org/property/date'),\n rdflib.term.URIRef('http://dbpedia.org/property/deathPlace'),\n rdflib.term.URIRef('http://dbpedia.org/property/elevationM'),\n rdflib.term.URIRef('http://dbpedia.org/property/footer'),\n rdflib.term.URIRef('http://dbpedia.org/property/footerAlign'),\n rdflib.term.URIRef('http://dbpedia.org/property/geocode'),\n rdflib.term.URIRef('http://dbpedia.org/property/governingBody'),\n rdflib.term.URIRef('http://dbpedia.org/property/height'),\n rdflib.term.URIRef('http://dbpedia.org/property/image'),\n rdflib.term.URIRef('http://dbpedia.org/property/imageFlag'),\n rdflib.term.URIRef('http://dbpedia.org/property/imageShield'),\n rdflib.term.URIRef('http://dbpedia.org/property/isoCode'),\n rdflib.term.URIRef('http://dbpedia.org/property/leaderName'),\n rdflib.term.URIRef('http://dbpedia.org/property/leaderParty'),\n rdflib.term.URIRef('http://dbpedia.org/property/leaderTitle'),\n rdflib.term.URIRef('http://dbpedia.org/property/name'),\n rdflib.term.URIRef('http://dbpedia.org/property/perrow'),\n rdflib.term.URIRef('http://dbpedia.org/property/populationAsOf'),\n rdflib.term.URIRef('http://dbpedia.org/property/populationDemonyms'),\n rdflib.term.URIRef('http://dbpedia.org/property/populationMetro'),\n rdflib.term.URIRef('http://dbpedia.org/property/populationTotal'),\n rdflib.term.URIRef('http://dbpedia.org/property/pushpinMap'),\n rdflib.term.URIRef('http://dbpedia.org/property/pushpinMapCaption'),\n rdflib.term.URIRef('http://dbpedia.org/property/pushpinRelief'),\n rdflib.term.URIRef('http://dbpedia.org/property/reason'),\n rdflib.term.URIRef('http://dbpedia.org/property/registrationPlate'),\n rdflib.term.URIRef('http://dbpedia.org/property/settlementType'),\n rdflib.term.URIRef('http://dbpedia.org/property/shieldSize'),\n rdflib.term.URIRef('http://dbpedia.org/property/subdivisionType'),\n rdflib.term.URIRef('http://dbpedia.org/property/timezone'),\n rdflib.term.URIRef('http://dbpedia.org/property/timezone1Dst'),\n rdflib.term.URIRef('http://dbpedia.org/property/totalType'),\n rdflib.term.URIRef('http://dbpedia.org/property/totalWidth'),\n rdflib.term.URIRef('http://dbpedia.org/property/utcOffset'),\n rdflib.term.URIRef('http://dbpedia.org/property/utcOffset1Dst'),\n rdflib.term.URIRef('http://dbpedia.org/property/width'),\n rdflib.term.URIRef('http://dbpedia.org/property/wikiPageUsesTemplate'),\n rdflib.term.URIRef('http://purl.org/dc/terms/isPartOf'),\n rdflib.term.URIRef('http://purl.org/dc/terms/subject'),\n rdflib.term.URIRef('http://schema.org/sameAs'),\n rdflib.term.URIRef('http://www.georss.org/georss/point'),\n rdflib.term.URIRef('http://www.w3.org/1999/02/22-rdf-syntax-ns#type'),\n rdflib.term.URIRef('http://www.w3.org/2000/01/rdf-schema#comment'),\n rdflib.term.URIRef('http://www.w3.org/2000/01/rdf-schema#label'),\n rdflib.term.URIRef('http://www.w3.org/2000/01/rdf-schema#seeAlso'),\n rdflib.term.URIRef('http://www.w3.org/2002/07/owl#sameAs'),\n rdflib.term.URIRef('http://www.w3.org/2003/01/geo/wgs84_pos#geometry'),\n rdflib.term.URIRef('http://www.w3.org/2003/01/geo/wgs84_pos#lat'),\n rdflib.term.URIRef('http://www.w3.org/2003/01/geo/wgs84_pos#long'),\n rdflib.term.URIRef('http://www.w3.org/2004/02/skos/core#exactMatch'),\n rdflib.term.URIRef('http://www.w3.org/ns/prov#wasDerivedFrom'),\n rdflib.term.URIRef('http://xmlns.com/foaf/0.1/depiction'),\n rdflib.term.URIRef('http://xmlns.com/foaf/0.1/homepage'),\n rdflib.term.URIRef('http://xmlns.com/foaf/0.1/isPrimaryTopicOf'),\n rdflib.term.URIRef('http://xmlns.com/foaf/0.1/name'),\n rdflib.term.URIRef('http://xmlns.com/foaf/0.1/primaryTopic')}\n"
     ]
    }
   ],
   "source": [
    "# Get a set of properties (predicates) - Alternative 2\n",
    "properties2 = set()\n",
    "for p in g.predicates():\n",
    "    properties2.add(p)\n",
    "\n",
    "# Print out the properties\n",
    "pprint(properties2)"
   ]
  },
  {
   "cell_type": "code",
   "execution_count": 9,
   "metadata": {},
   "outputs": [
    {
     "output_type": "stream",
     "name": "stdout",
     "text": [
      "Западный Берлин\nBerlino Est\nЗахідний Берлін\n西ベルリン\nБерлин\nBerlin\nOst-Berlin\nMendebaldeko Berlin\nBerlin-Est\nBerlin\nبرلين الغربية\nBerlin\nEkialdeko Berlin\nBerlino\nBerlín Occidental\nBeirlín\nBerlin Zachodni\nBerlino\nBerlin\nBerlin\nBerlín Este\nΒερολίνο\nOkcidenta Berlino\nBerlim Leste\nБерлін\nBerlín\nBerlin\nBerlin-Ouest\nBerlijn\n베를린\nBerlin Timur\nBerlim\nСхідний Берлін\nVýchodní Berlín\nWest-Berlijn\nبرلين\nWest-Berlin\nΑνατολικό Βερολίνο\n東ベルリン\n동베를린\nBerlín\nВосточный Берлин\nبرلين الشرقية\n西柏林\nÖstberlin\nBerlin (wschodni)\nBerlin Barat\nベルリン\nBerlín Oeste\nBerlino Ovest\nΔυτικό Βερολίνο\nBerlín\nVästberlin\nBerlim Ocidental\nBerlín Oriental\n서베를린\nBerlin\n柏林\n东柏林\nZápadní Berlín\n"
     ]
    }
   ],
   "source": [
    "# Iterate over list of labels - Alternative 1\n",
    "for s, o in g.subject_objects(RDFS.label):\n",
    "    print(o)"
   ]
  },
  {
   "cell_type": "code",
   "execution_count": 10,
   "metadata": {},
   "outputs": [
    {
     "output_type": "stream",
     "name": "stdout",
     "text": [
      "http://ba.dbpedia.org/resource/Берлин\nhttp://pnb.dbpedia.org/resource/چڑھدا_برلن\nhttp://zh.dbpedia.org/resource/东柏林\nhttp://mn.dbpedia.org/resource/Берлин\nhttp://la.dbpedia.org/resource/Berolinum\nhttp://sr.dbpedia.org/resource/Источни_Берлин\nhttp://ja.dbpedia.org/resource/東ベルリン\nhttp://d-nb.info/gnd/4069304-1\nhttp://d-nb.info/gnd/4005728-8/about/rdf\nhttp://hu.dbpedia.org/resource/Berlin\nhttp://sws.geonames.org/11612751/\nhttp://arz.dbpedia.org/resource/بيرلين\nhttp://ar.dbpedia.org/resource/برلين\nhttp://vi.dbpedia.org/resource/Berlin\nhttp://tr.dbpedia.org/resource/Berlin\nhttp://www.wikidata.org/entity/Q56037\nhttp://scn.dbpedia.org/resource/Birlinu\nhttp://es.dbpedia.org/resource/Berlín_Oeste\nhttp://eu.dbpedia.org/resource/Ekialdeko_Berlin\nhttp://uk.dbpedia.org/resource/Східний_Берлін\nhttp://mk.dbpedia.org/resource/Западен_Берлин\nhttp://hu.dbpedia.org/resource/Nyugat-Berlin\nhttp://ast.dbpedia.org/resource/Berlín\nhttp://cy.dbpedia.org/resource/Dwyrain_Berlin\nhttp://d-nb.info/gnd/2004272-3\nhttp://ky.dbpedia.org/resource/Берлин\nhttp://be.dbpedia.org/resource/Заходні_Берлін\nhttp://hsb.dbpedia.org/resource/Berlin\nhttp://yi.dbpedia.org/resource/בערלין\nhttp://vi.dbpedia.org/resource/Đông_Berlin\nhttp://www4.wiwiss.fu-berlin.de/eurostat/resource/regions/Berlin\nhttp://ta.dbpedia.org/resource/பெர்லின்\nhttp://id.dbpedia.org/resource/Berlin_Timur\nhttp://eu.dbpedia.org/resource/Berlin\nhttp://ca.dbpedia.org/resource/Berlín\nhttp://hi.dbpedia.org/resource/बर्लिन\nhttp://he.dbpedia.org/resource/ברלין\nhttp://mrj.dbpedia.org/resource/Берлин\nhttp://da.dbpedia.org/resource/Vestberlin\nhttp://ca.dbpedia.org/resource/Berlín_Oriental\nhttp://sr.dbpedia.org/resource/Западни_Берлин\nhttp://ms.dbpedia.org/resource/Berlin_Timur\nhttp://ko.dbpedia.org/resource/베를린\nhttp://no.dbpedia.org/resource/Berlin\nhttp://ga.dbpedia.org/resource/Beirlín\nhttp://mg.dbpedia.org/resource/Berlin\nhttp://yago-knowledge.org/resource/Berlin\nhttp://mr.dbpedia.org/resource/पूर्व_बर्लिन\nhttp://bg.dbpedia.org/resource/Западен_Берлин\nhttp://ko.dbpedia.org/resource/서베를린\nhttp://nds.dbpedia.org/resource/Berlin\nhttp://nl.dbpedia.org/resource/West-Berlijn\nhttp://cy.dbpedia.org/resource/Gorllewin_Berlin\nhttp://hr.dbpedia.org/resource/Istočni_Berlin\nhttp://ka.dbpedia.org/resource/ბერლინი\nhttp://br.dbpedia.org/resource/Berlin\nhttp://el.dbpedia.org/resource/Δυτικό_Βερολίνο\nhttp://he.dbpedia.org/resource/ברלין_המערבית\nhttp://ja.dbpedia.org/resource/西ベルリン\nhttp://it.dbpedia.org/resource/Berlino_Est\nhttp://oc.dbpedia.org/resource/Berlin\nhttp://viaf.org/viaf/141294625\nhttp://new.dbpedia.org/resource/बर्लिन\nhttp://pt.dbpedia.org/resource/Berlim\nhttp://sv.dbpedia.org/resource/Östberlin\nhttp://th.dbpedia.org/resource/เบอร์ลินตะวันออก\nhttp://sh.dbpedia.org/resource/Istočni_Berlin\nhttp://ru.dbpedia.org/resource/Восточный_Берлин\nhttp://tr.dbpedia.org/resource/Doğu_Berlin\nhttp://ms.dbpedia.org/resource/Berlin\nhttp://sa.dbpedia.org/resource/बर्लिन\nhttp://pnb.dbpedia.org/resource/برلن\nhttp://fa.dbpedia.org/resource/برلین\nhttp://el.dbpedia.org/resource/Βερολίνο\nhttp://tr.dbpedia.org/resource/Batı_Berlin\nhttp://yo.dbpedia.org/resource/Berlin\nhttp://fo.dbpedia.org/resource/Berlin\nhttp://fi.dbpedia.org/resource/Berliini\nhttp://bs.dbpedia.org/resource/Berlin\nhttp://uk.dbpedia.org/resource/Західний_Берлін\nhttp://cy.dbpedia.org/resource/Berlin\nhttp://eu.dbpedia.org/resource/Mendebaldeko_Berlin\nhttp://cs.dbpedia.org/resource/Berlín\nhttp://www.wikidata.org/entity/Q56036\nhttp://fi.dbpedia.org/resource/Itä-Berliini\nhttp://fi.dbpedia.org/resource/Länsi-Berliini\nhttp://cs.dbpedia.org/resource/Západní_Berlín\nhttp://mk.dbpedia.org/resource/Берлин\nhttp://ce.dbpedia.org/resource/Берлин\nhttp://fr.dbpedia.org/resource/Berlin-Ouest\nhttp://nn.dbpedia.org/resource/Vest-Berlin\nhttp://be.dbpedia.org/resource/Берлін\nhttp://lv.dbpedia.org/resource/Austrumberlīne\nhttp://is.dbpedia.org/resource/Berlín\nhttp://af.dbpedia.org/resource/Oos-Berlyn\nhttp://www.wikidata.org/entity/Q31910788\nhttp://war.dbpedia.org/resource/Sinirangan_nga_Berlin\nhttp://mk.dbpedia.org/resource/Источен_Берлин\nhttp://bar.dbpedia.org/resource/West-Berlin\nhttp://d-nb.info/gnd/2004264-4\nhttp://ceb.dbpedia.org/resource/Berlin_(distrito)\nhttp://pa.dbpedia.org/resource/ਬਰਲਿਨ\nhttp://rdf.freebase.com/ns/m.0156q\nhttp://pt.dbpedia.org/resource/Berlim_Ocidental\nhttp://gl.dbpedia.org/resource/Berlín\nhttp://et.dbpedia.org/resource/Ida-Berliin\nhttp://simple.dbpedia.org/resource/East_Berlin\nhttp://de.dbpedia.org/resource/Berlin\nhttp://nl.dbpedia.org/resource/Berlijn\nhttp://pl.dbpedia.org/resource/Berlin_Zachodni\nhttp://pl.dbpedia.org/resource/Berlin_(wschodni)\nhttp://api.nytimes.com/svc/semantic/v2/concept/name/nytd_geo/Berlin%20(Germany)\nhttp://hy.dbpedia.org/resource/Արևելյան_Բեռլին\nhttp://war.dbpedia.org/resource/Natondan_nga_Berlin\nhttp://sws.geonames.org/2950157\nhttp://bg.dbpedia.org/resource/Берлин\nhttp://eo.dbpedia.org/resource/Okcidenta_Berlino\nhttp://zh.dbpedia.org/resource/柏林\nhttp://ckb.dbpedia.org/resource/بەرلین\nhttp://azb.dbpedia.org/resource/برلین\nhttp://nn.dbpedia.org/resource/Aust-Berlin\nhttp://pt.dbpedia.org/resource/Berlim_Leste\nhttp://sl.dbpedia.org/resource/Berlin\nhttp://uk.dbpedia.org/resource/Берлін\nhttp://jv.dbpedia.org/resource/Berlin_Kulon\nhttp://ca.dbpedia.org/resource/Berlín_Occidental\nhttp://th.dbpedia.org/resource/เบอร์ลิน\nhttp://es.dbpedia.org/resource/Berlín\nhttp://ja.dbpedia.org/resource/ベルリン\nhttp://no.dbpedia.org/resource/Øst-Berlin\nhttp://ar.dbpedia.org/resource/برلين_الغربية\nhttp://ia.dbpedia.org/resource/Berlin\nhttp://ml.dbpedia.org/resource/ബെർലിൻ\nhttp://sk.dbpedia.org/resource/Východný_Berlín\nhttp://lv.dbpedia.org/resource/Berlīne\nhttp://sh.dbpedia.org/resource/Zapadni_Berlin\nhttp://et.dbpedia.org/resource/Lääne-Berliin\nhttp://ro.dbpedia.org/resource/Berlinul_de_Vest\nhttp://sw.dbpedia.org/resource/Berlin\nhttp://vi.dbpedia.org/resource/Tây_Berlin\nhttp://az.dbpedia.org/resource/Berlin\nhttp://sco.dbpedia.org/resource/Berlin\nhttp://he.dbpedia.org/resource/ברלין_המזרחית\nhttp://kn.dbpedia.org/resource/ಬರ್ಲಿನ್\nhttp://lt.dbpedia.org/resource/Berlynas\nhttp://no.dbpedia.org/resource/Vest-Berlin\nhttp://zh.dbpedia.org/resource/西柏林\nhttp://tg.dbpedia.org/resource/Берлин\nhttp://bg.dbpedia.org/resource/Източен_Берлин\nhttp://gd.dbpedia.org/resource/Berlin\nhttp://pnb.dbpedia.org/resource/لیندا_برلن\nhttp://ro.dbpedia.org/resource/Berlin\nhttp://ro.dbpedia.org/resource/Berlinul_de_Est\nhttp://lmo.dbpedia.org/resource/Berlin\nhttp://jv.dbpedia.org/resource/Berlin\nhttp://linked-web-apis.fit.cvut.cz/resource/berlin_city\nhttp://si.dbpedia.org/resource/බර්ලිනය\nhttp://cv.dbpedia.org/resource/Берлин\nhttp://viaf.org/viaf/122530980\nhttp://eo.dbpedia.org/resource/Berlino\nhttp://als.dbpedia.org/resource/Berlin\nhttp://simple.dbpedia.org/resource/West_Berlin\nhttp://it.dbpedia.org/resource/Berlino_Ovest\nhttp://jv.dbpedia.org/resource/Berlin_Wétan\nhttp://de.dbpedia.org/resource/Ost-Berlin\nhttp://d-nb.info/gnd/4069304-1/about/rdf\nhttp://am.dbpedia.org/resource/በርሊን\nhttp://sws.geonames.org/2950157/\nhttp://ku.dbpedia.org/resource/Berlîn\nhttp://ka.dbpedia.org/resource/დასავლეთი_ბერლინი\nhttp://hu.dbpedia.org/resource/Kelet-Berlin\nhttp://fy.dbpedia.org/resource/East-Berlyn\nhttp://ms.dbpedia.org/resource/Berlin_Barat\nhttp://ar.dbpedia.org/resource/برلين_الشرقية\nhttp://lmo.dbpedia.org/resource/Berlin_Est\nhttp://af.dbpedia.org/resource/Wes-Berlyn\nhttp://fr.dbpedia.org/resource/Berlin\nhttp://sco.dbpedia.org/resource/East_Berlin\nhttp://sws.geonames.org/6547383/\nhttp://pms.dbpedia.org/resource/Berlin\nhttp://th.dbpedia.org/resource/เบอร์ลินตะวันตก\nhttp://sco.dbpedia.org/resource/Wast_Berlin\nhttp://ne.dbpedia.org/resource/बर्लिन\nhttp://ceb.dbpedia.org/resource/Berlin\nhttp://bar.dbpedia.org/resource/Berlin\nhttp://br.dbpedia.org/resource/Berlin_ar_Reter\nhttp://or.dbpedia.org/resource/ବର୍ଲିନ\nhttp://ast.dbpedia.org/resource/Berlín_Este\nhttp://war.dbpedia.org/resource/Berlin\nhttp://pl.dbpedia.org/resource/Berlin\nhttp://simple.dbpedia.org/resource/Berlin\nhttp://sv.dbpedia.org/resource/Västberlin\nhttp://mr.dbpedia.org/resource/बर्लिन\nhttp://be.dbpedia.org/resource/Усходні_Берлін\nhttp://sws.geonames.org/2950159/\nhttp://fa.dbpedia.org/resource/برلین_شرقی\nhttp://af.dbpedia.org/resource/Berlyn\nhttp://linkedgeodata.org/triplify/node240109189\nhttp://su.dbpedia.org/resource/Bérlin\nhttp://ur.dbpedia.org/resource/مغربی_برلن\nhttp://hy.dbpedia.org/resource/Բեռլին\nhttp://mr.dbpedia.org/resource/पश्चिम_बर्लिन\nhttp://mzn.dbpedia.org/resource/برلین\nhttp://fr.dbpedia.org/resource/Berlin-Est\nhttp://viaf.org/viaf/142472483\nhttp://sk.dbpedia.org/resource/Západný_Berlín\nhttp://bn.dbpedia.org/resource/বার্লিন\nhttp://ru.dbpedia.org/resource/Западный_Берлин\nhttp://es.dbpedia.org/resource/Berlín_Este\nhttp://vo.dbpedia.org/resource/Berlin\nhttp://sh.dbpedia.org/resource/Berlin\nhttp://ast.dbpedia.org/resource/Berlín_Oeste\nhttp://d-nb.info/gnd/7761961-4\nhttp://it.dbpedia.org/resource/Berlino\nhttp://d-nb.info/gnd/4087295-6\nhttp://az.dbpedia.org/resource/Qərbi_Berlin\nhttp://et.dbpedia.org/resource/Berliin\nhttp://dbpedia.org/resource/Berlin\nhttp://sws.geonames.org/6547539/\nhttp://an.dbpedia.org/resource/Berlín\nhttp://lb.dbpedia.org/resource/Berlin\nhttp://ru.dbpedia.org/resource/Берлин\nhttp://ht.dbpedia.org/resource/Bèlen\nhttp://d-nb.info/gnd/4005728-8\nhttp://fy.dbpedia.org/resource/West-Berlyn\nhttp://te.dbpedia.org/resource/బెర్లిన్\nhttp://li.dbpedia.org/resource/Berlien\nhttp://io.dbpedia.org/resource/Berlin\nhttps://global.dbpedia.org/id/2wvzs\nhttp://ko.dbpedia.org/resource/동베를린\nhttp://sr.dbpedia.org/resource/Берлин\nhttp://hr.dbpedia.org/resource/Berlin\nhttp://als.dbpedia.org/resource/Westberlin\nhttp://lv.dbpedia.org/resource/Rietumberlīne\nhttp://uz.dbpedia.org/resource/Berlin\nhttp://lt.dbpedia.org/resource/Vakarų_Berlynas\nhttp://kk.dbpedia.org/resource/Берлин\nhttp://id.dbpedia.org/resource/Berlin\nhttp://d-nb.info/gnd/4087295-6/about/rdf\nhttp://nap.dbpedia.org/resource/Berlino\nhttp://fa.dbpedia.org/resource/برلین_غربی\nhttp://sv.dbpedia.org/resource/Berlin\nhttp://d-nb.info/gnd/35147-7\nhttp://da.dbpedia.org/resource/Berlin\nhttp://os.dbpedia.org/resource/Берлин\nhttp://tl.dbpedia.org/resource/Berlin\nhttp://ur.dbpedia.org/resource/برلن\nhttp://da.dbpedia.org/resource/Østberlin\nhttp://my.dbpedia.org/resource/ဘာလင်မြို့\nhttp://el.dbpedia.org/resource/Ανατολικό_Βερολίνο\nhttp://sw.cyc.com/concept/Mx4rvVjrhpwpEbGdrcN5Y29ycA\nhttp://fy.dbpedia.org/resource/Berlyn\nhttp://nn.dbpedia.org/resource/Berlin\nhttp://cs.dbpedia.org/resource/Východní_Berlín\nhttp://de.dbpedia.org/resource/West-Berlin\nhttp://als.dbpedia.org/resource/Ostberlin\nhttp://bs.dbpedia.org/resource/Zapadni_Berlin\nhttp://vec.dbpedia.org/resource/Berlin\nhttp://sk.dbpedia.org/resource/Berlín\nhttp://scn.dbpedia.org/resource/Birlinu_est\nhttp://qu.dbpedia.org/resource/Berlin\nhttp://ur.dbpedia.org/resource/مشرقی_برلن\nhttp://commons.dbpedia.org/resource/Berlin\nhttp://bn.dbpedia.org/resource/পূর্ব_বার্লিন\nhttp://sah.dbpedia.org/resource/Берлин\nhttp://id.dbpedia.org/resource/Berlin_Barat\nhttp://www.wikidata.org/entity/Q64\n"
     ]
    }
   ],
   "source": [
    "# Iterate over list of labels - Alternative 2\n",
    "for s, o in g.subject_objects(OWL.sameAs):\n",
    "    print(o)"
   ]
  },
  {
   "cell_type": "code",
   "execution_count": 11,
   "metadata": {},
   "outputs": [
    {
     "output_type": "stream",
     "name": "stdout",
     "text": [
      "Berlin\n"
     ]
    }
   ],
   "source": [
    "# Get all objects that have a 'RDFS.label' predicate.\n",
    "# If the object has a language tag of 'en', print it out.\n",
    "population = URIRef('http://dbpedia.org/ontology/populationTotal')\n",
    "for o in g.objects(None, RDFS.label):\n",
    "    if o.language == 'en':\n",
    "        print(o)"
   ]
  },
  {
   "cell_type": "code",
   "execution_count": 12,
   "metadata": {},
   "outputs": [
    {
     "output_type": "stream",
     "name": "stdout",
     "text": [
      "3769495\n"
     ]
    }
   ],
   "source": [
    "# Get one value from the Graph and print it out\n",
    "DBO = Namespace('http://dbpedia.org/ontology/')\n",
    "DBR = Namespace('http://dbpedia.org/resource/')\n",
    "\n",
    "print( g.value(DBR['Berlin'], DBO['populationTotal'], None) )"
   ]
  },
  {
   "cell_type": "code",
   "execution_count": null,
   "metadata": {},
   "outputs": [],
   "source": []
  }
 ]
}