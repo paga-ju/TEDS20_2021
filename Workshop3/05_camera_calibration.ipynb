{
 "metadata": {
  "language_info": {
   "codemirror_mode": {
    "name": "ipython",
    "version": 3
   },
   "file_extension": ".py",
   "mimetype": "text/x-python",
   "name": "python",
   "nbconvert_exporter": "python",
   "pygments_lexer": "ipython3",
   "version": "3.8.3"
  },
  "orig_nbformat": 2,
  "kernelspec": {
   "name": "pythonjvsc74a57bd09d65b9e2e8eac6a387e3ce3a08e87d542be448df25ebc8844952a4308c3d4f13",
   "display_name": "Python 3.8.3  ('.venv': venv)"
  },
  "metadata": {
   "interpreter": {
    "hash": "9d65b9e2e8eac6a387e3ce3a08e87d542be448df25ebc8844952a4308c3d4f13"
   }
  }
 },
 "nbformat": 4,
 "nbformat_minor": 2,
 "cells": [
  {
   "source": [
    "# Exercise 5: Camera Calibration (from Existing Images)\n",
    "\n",
    "In this exercise you will:\n",
    "- Learn how to calibrate your camera from images already taken by a camera.\n",
    "\n",
    "To calibrate your own camera (i.e. by taking pictures, or a set of video frames, yourself), the OpenCV tutorials walk you through the process. The tutorials can be found using the links below (and also include tutorials for 3D reconstruction, once you have calibrated your camera).\n",
    "\n",
    "https://opencv-python-tutroals.readthedocs.io/en/latest/py_tutorials/py_calib3d/py_table_of_contents_calib3d/py_table_of_contents_calib3d.html  \n",
    "\n",
    "https://docs.opencv.org/master/d9/db7/tutorial_py_table_of_contents_calib3d.html\n",
    "\n",
    "Camera calibration can take some time. Therefore, in this exercise, we will stop the calibration before the calibrated camera parameters are saved to the file system (so we don't have to wait 30 minutes to an hour to calibrate our cameras). The folder \"camera_params\" already contains the calibration parameters from a previous run, so we can use these for demonstrating 3D reconstruction.\n",
    "\n",
    "In the next exercise, we will use the camera calibration parameters from the folder \"camera_params\" to reconstruct a 3D scene from two 2D images.\n",
    "\n",
    "The OpenCV function `ret, corners = cv.findChessboardCorners(gray_image, chessboard_size, None)` takes in a `gray_image` (or video frame) of a chess board and a `chessboard_size` (the real width and height of a square in cm on the chess board), and returns the detected `corners`, and the return value `ret`, which will be `True` if the `corners` where properly detected, otherwise `False`.\n",
    "\n",
    "A chess board image is ideal for camera calibration, since it's easy to find the corners (e.g. using Harris Corner Detection). That's what the `cv.findChessboardCorners()` function does.\n",
    "\n",
    "Once we have found the `corners`, we can use the OpenCV function `cv.cornerSubPix(gray_image, corners, (5,5), (-1,-1), criteria)` to slide a 5x5 window `(5,5)` over the `gray_image` to refine the positions of the `corners` to sub-pixel accuracy. The `(-1,-1)` parameter is unimportant, and the `criteria` parameter determines how the search for sub-pixels is done (how many iterations, etc.).\n",
    "\n",
    "The we use the OpenCV function `ret, K, dist, rvecs, tvecs = cv.calibrateCamera(obj_points, img_points, gray_image.shape[::-1], None, None)` to get the required camera calibration parameters. We also need to find the camera's focal length. In this example, we will use the `PIL` python package to do this.\n",
    "\n",
    "Finally, we store the camera calibration parameters to the file system."
   ],
   "cell_type": "markdown",
   "metadata": {}
  },
  {
   "source": [
    "As a first step, let's import the python modules we need."
   ],
   "cell_type": "markdown",
   "metadata": {}
  },
  {
   "cell_type": "code",
   "execution_count": 1,
   "metadata": {},
   "outputs": [],
   "source": [
    "import cv2 as cv\n",
    "import numpy as np\n",
    "import matplotlib.pyplot as plt\n",
    "\n",
    "import glob\n",
    "import PIL.ExifTags\n",
    "import PIL.Image"
   ]
  },
  {
   "source": [
    "## Camera Calibration\n",
    "\n"
   ],
   "cell_type": "markdown",
   "metadata": {}
  },
  {
   "cell_type": "code",
   "execution_count": 2,
   "metadata": {},
   "outputs": [
    {
     "output_type": "stream",
     "name": "stdout",
     "text": [
      "Image loaded, finding chess board corners ...\n",
      "Chessboard detected in image: ./calibration_images\\IMG_7769.JPG\n",
      "Image loaded, finding chess board corners ...\n"
     ]
    }
   ],
   "source": [
    "#============================================\n",
    "# Camera calibration\n",
    "#============================================\n",
    "\n",
    "# Define chess board size.\n",
    "chessboard_size = (7,5)\n",
    "\n",
    "# Define arrays to save detected points\n",
    "obj_points = [] # 3D points in real world space \n",
    "img_points = [] # 3D points in image plane\n",
    "\n",
    "# Prepare grid of 3D points on the real chess board\n",
    "# (the Z-coordinate is assumed to be 0, i.e. we only\n",
    "# shift the chess board along the X and Y axes when\n",
    "# taking pictures from different view points).\n",
    "objp = np.zeros((np.prod(chessboard_size),3), dtype=np.float32)\n",
    "objp[:,:2] = np.mgrid[0:chessboard_size[0], 0:chessboard_size[1]].T.reshape(-1,2)\n",
    "obj_points.append(objp)\n",
    "\n",
    "# Read in all calibration images\n",
    "calibration_paths = glob.glob('./calibration_images/*')\n",
    "\n",
    "# Iterate over the images to find the intrinsic camera matrix\n",
    "for image_path in calibration_paths:\n",
    "\n",
    "\t# Load image and convert to gray scale\n",
    "\timage = cv.imread(image_path)\n",
    "\tgray_image = cv.cvtColor(image, cv.COLOR_BGR2GRAY)\n",
    "\t\n",
    "\tprint(\"Image loaded, finding chess board corners ...\")\n",
    "\t\n",
    "\t# Find chessboard corners\n",
    "\tret, corners = cv.findChessboardCorners(gray_image, chessboard_size, None)\n",
    "\n",
    "\t# If the chess board corners were detected\n",
    "\tif ret == True:\n",
    "\t\tprint(f'Chessboard detected in image: {image_path}')\t\t\n",
    "\t\t\n",
    "\t\t# Define criteria for subpixel accuracy\n",
    "\t\tcriteria = (cv.TERM_CRITERIA_EPS + cv.TERM_CRITERIA_MAX_ITER, 30, 0.001)\n",
    "\t\t\n",
    "\t\t# Refine corner location (to subpixel accuracy) based on criteria\n",
    "\t\tcv.cornerSubPix(gray_image, corners, (5,5), (-1,-1), criteria)\n",
    "\t\t\n",
    "\t\t# Add detected corners in the image to the list of image points\n",
    "\t\timg_points.append(corners)\n",
    "\n",
    "# Calibrate camera\n",
    "ret, K, dist, rvecs, tvecs = cv.calibrateCamera(obj_points, img_points, gray_image.shape[::-1], None, None)\n",
    "\n",
    "# Save parameters into numpy file\n",
    "np.save(\"./camera_params/ret\", ret)\n",
    "np.save(\"./camera_params/K\", K)\n",
    "np.save(\"./camera_params/dist\", dist)\n",
    "np.save(\"./camera_params/rvecs\", rvecs)\n",
    "np.save(\"./camera_params/tvecs\", tvecs)\n",
    "\n",
    "# Get \"exif\" data in order to get focal length \n",
    "exif_img = PIL.Image.open(calibration_paths[0])\n",
    "\n",
    "exif_data = {\n",
    "\tPIL.ExifTags.TAGS[k]:v\n",
    "\tfor k, v in exif_img._getexif().items()\n",
    "\tif k in PIL.ExifTags.TAGS}\n",
    "\n",
    "# Get focal length in tuple form\n",
    "focal_length_exif = exif_data['FocalLength']\n",
    "\n",
    "# Get focal length in decimal form\n",
    "focal_length = focal_length_exif[0]/focal_length_exif[1]\n",
    "\n",
    "# Save focal length\n",
    "np.save(\"./camera_params/FocalLength\", focal_length)\n",
    "\n",
    "# Calculate projection error\n",
    "mean_error = 0\n",
    "for i in range(len(obj_points)):\n",
    "\timg_points2, _ = cv.projectPoints(obj_points[i],rvecs[i],tvecs[i], K, dist)\n",
    "\terror = cv.norm(img_points[i], img_points2, cv.NORM_L2)/len(img_points2)\n",
    "\tmean_error += error\n",
    "\n",
    "# Print the total projection error\n",
    "total_error = mean_error/len(obj_points)\n",
    "print(f'total_error: {total_error}')"
   ]
  },
  {
   "cell_type": "code",
   "execution_count": null,
   "metadata": {},
   "outputs": [],
   "source": []
  }
 ]
}